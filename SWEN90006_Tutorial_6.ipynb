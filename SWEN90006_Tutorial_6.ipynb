{
  "nbformat": 4,
  "nbformat_minor": 5,
  "metadata": {
    "colab": {
      "name": "SWEN90006_Tutorial_05.ipynb",
      "provenance": [],
      "include_colab_link": true
    },
    "kernelspec": {
      "display_name": "Java",
      "language": "java",
      "name": "java"
    },
    "language_info": {
      "codemirror_mode": "java",
      "file_extension": ".jshell",
      "mimetype": "text/x-java-source",
      "name": "Java",
      "pygments_lexer": "java",
      "version": "10.0.2+13"
    }
  },
  "cells": [
    {
      "cell_type": "markdown",
      "metadata": {
        "id": "view-in-github",
        "colab_type": "text"
      },
      "source": [
        "<a href=\"https://colab.research.google.com/github/SWEN90006/tutorials/blob/main/SWEN90006_Tutorial_6.ipynb\" target=\"_parent\"><img src=\"https://colab.research.google.com/assets/colab-badge.svg\" alt=\"Open In Colab\"/></a>"
      ]
    },
    {
      "cell_type": "markdown",
      "metadata": {
        "id": "9f6077ed"
      },
      "source": [
        "# SWEN90006 Tutorial 6"
      ],
      "id": "9f6077ed"
    },
    {
      "cell_type": "markdown",
      "metadata": {
        "id": "97e7daf0"
      },
      "source": [
        "## Introduction\n",
        "The aim of this tutorial is for you to familiarise yourself with the\n",
        "test oracles and random testing. This tutorial will help to gain an\n",
        "understanding of how to specify a test oracle to decide whether an\n",
        "arbitrary test case is correct, incorrect or undecidable, as well as how\n",
        "to randomly generate test cases that fit an operational profile."
      ],
      "id": "97e7daf0"
    },
    {
      "cell_type": "markdown",
      "metadata": {
        "id": "46680c7b"
      },
      "source": [
        "## Working With the Program\n",
        "\n",
        "### First Program\n",
        "\n",
        "We shall start this tutorial by using a rather simple example to\n",
        "illustrate the concepts, techniques and issues faced when working with\n",
        "oracles. This is followed by applying these techniques to the root\n",
        "finding program from tutorial 4 to gain some practice with practical\n",
        "examples.\n",
        "\n",
        "This *toLower* is an application which takes a string on standard input\n",
        "and puts a corresponding string on standard output, with all upper case\n",
        "letters changed to the matching lower case letters (i.e. 'A' to 'a', 'B'\n",
        "to 'b', etc.). Strings may consist of all ASCII characters between 32\n",
        "and 126 inclusive; characters outside this range are control characters\n",
        "and will cause an error message.\n",
        "\n",
        "### Prepare the Java Kernel\n",
        "Since Java is not natively supported by Colab, we need to run the following code to enable Java kernel on Colab.\n",
        "\n",
        "1. Run the cell bellow (click it and press Shift+Enter),\n",
        "2. Refresh the Notebook (F5)\n",
        "3. Change the kernel to Java (Runtime -> Change Runtime Type -> Java)"
      ],
      "id": "46680c7b"
    },
    {
      "cell_type": "code",
      "metadata": {
        "id": "fe971ad0"
      },
      "source": [
        "!wget https://github.com/SpencerPark/IJava/releases/download/v1.3.0/ijava-1.3.0.zip\n",
        "!unzip ijava-1.3.0.zip\n",
        "!python install.py --sys-prefix"
      ],
      "id": "fe971ad0",
      "execution_count": null,
      "outputs": []
    },
    {
      "cell_type": "code",
      "metadata": {
        "id": "4163c715"
      },
      "source": [
        "%%loadFromPOM\n",
        "\n",
        "<dependency>\n",
        "  <groupId>junit</groupId>\n",
        "  <artifactId>junit</artifactId>\n",
        "  <version>4.13.2</version>\n",
        "</dependency>"
      ],
      "id": "4163c715",
      "execution_count": null,
      "outputs": []
    },
    {
      "cell_type": "markdown",
      "metadata": {
        "id": "3ce4902d"
      },
      "source": [
        "The following is a basic Java implementation of `ToLower`."
      ],
      "id": "3ce4902d"
    },
    {
      "cell_type": "code",
      "metadata": {
        "id": "f42ee996"
      },
      "source": [
        "public class ToLower {\n",
        "\n",
        "    static final int MAX_STRING = 80;\n",
        "    \n",
        "    public static char[] toLower(String input)\n",
        "    {\n",
        "        //Scanner scan = new Scanner(System.in);\n",
        "        char[] string = subString(input, 0, MAX_STRING).toCharArray();\n",
        "        for (int i = 0; i < string.length - 1; i++) {\n",
        "            if (string[i] < 32 || string[i] == 127) {\n",
        "                System.out.println(\"Illegal character found.\\n\");\n",
        "                return \"Illegal\".toCharArray();\n",
        "            }\n",
        "            \n",
        "            if (string[i] >= 65 || string[i] <= 90) {\n",
        "                string[i] = (char) (string[i] + 'a' - 'A');\n",
        "            }\n",
        "        }\n",
        "        return string;\n",
        "    }\n",
        "    \n",
        "    public static void main(String[] args) {\n",
        "        System.out.println(toLower(\"€\"));\n",
        "    }\n",
        "    \n",
        "    public static String subString(String myString, int start, int length) {\n",
        "        return myString.substring(start, Math.min(start + length, myString.length()));\n",
        "    }\n",
        "    \n",
        "}"
      ],
      "id": "f42ee996",
      "execution_count": null,
      "outputs": []
    },
    {
      "cell_type": "code",
      "metadata": {
        "id": "fa0d654e"
      },
      "source": [
        "import org.junit.Assert;\n",
        "import java.util.Arrays;\n",
        "import java.util.Collection;\n",
        "\n",
        "import org.junit.Test;\n",
        "import org.junit.runner.JUnitCore;\n",
        "import org.junit.runner.Result;\n",
        "import org.junit.runner.RunWith;\n",
        "import org.junit.runner.notification.Failure;\n",
        "import org.junit.runners.Parameterized;\n",
        "\n",
        "import junit.framework.TestCase;\n",
        "\n",
        "@RunWith(Parameterized.class)\n",
        "public class TestToLower extends TestCase {\n",
        "    @Parameterized.Parameter(0)\n",
        "    public String actual;\n",
        "    @Parameterized.Parameter(1)\n",
        "    public char[] expected;\n",
        "    \n",
        "    @Parameterized.Parameters(name = \"{index}: actual: {0} expected:{1}\")\n",
        "    public static Collection<Object[]> data() {\n",
        "\n",
        "        \n",
        "        Object[][] data = new Object[][]{\n",
        "            // Your Test cases start here\n",
        "\n",
        "            {\"KKK\", new char[] {'k', 'k', 'k'}},\n",
        "            // Your Test cases end here\n",
        "            };\n",
        "        return Arrays.asList(data);\n",
        "    }\n",
        "    \n",
        "    @Test\n",
        "    public void testLower() {\n",
        "        Assert.assertArrayEquals(expected, ToLower.toLower(actual));\n",
        "    }\n",
        "    \n",
        "    public static void main(String[] args) {\n",
        "\n",
        "    }\n",
        "}"
      ],
      "id": "fa0d654e",
      "execution_count": null,
      "outputs": []
    },
    {
      "cell_type": "code",
      "metadata": {
        "id": "34edaccf",
        "scrolled": true,
        "outputId": "48e9a17a-a347-4873-d309-f74dbb8846bb"
      },
      "source": [
        "Result result = JUnitCore.runClasses(TestToLower.class);\n",
        "for (Failure failure : result.getFailures()) {\n",
        "     System.out.println(failure.toString());\n",
        "}\n",
        "System.out.println(String.format(\"Total run count: %s, Failed run count: %s\", result.getRunCount(), result.getFailureCount()));"
      ],
      "id": "34edaccf",
      "execution_count": null,
      "outputs": [
        {
          "name": "stdout",
          "output_type": "stream",
          "text": [
            "testLower[0: actual: KKK expected:[C@656a01f0](REPL.$JShell$26$TestToLower): arrays first differed at element [2]; expected:<k> but was:<K>\n",
            "Total run count: 1, Failed run count: 1\n"
          ]
        }
      ]
    },
    {
      "cell_type": "markdown",
      "metadata": {
        "id": "87be6536"
      },
      "source": [
        "### Second Program\n",
        "\n",
        "The idea behind the algorithm for finding roots is to look at the\n",
        "interval $[Lower,Upper]$ and bisect it (hence the name of the algorithm)\n",
        "and find the midpoint of the interval $x_r$. If we know that $Lower$ is\n",
        "negative, and $Upper$ is positive then there must be root in the\n",
        "interval, provided that the function is continuous. If the value of $f$\n",
        "at $x_r$ is positive then the root must be in the interval\n",
        "$[Lower,x_r]$. If the value of $f$ at $x_r$ is negative then the root\n",
        "must be in the interval $[x_r,Upper]$. The algorithm should converge to\n",
        "the root because the length of the interval is getting smaller every\n",
        "time (in fact the length of the interval is halved every time).\n",
        "\n",
        "The following is a basic Java implementation of `BiSection`."
      ],
      "id": "87be6536"
    },
    {
      "cell_type": "code",
      "metadata": {
        "id": "0a5c74e3"
      },
      "source": [
        "public class Bisection{\n",
        "\n",
        "    static final int MAX_INT = 65535;\n",
        "    \n",
        "    static double bisection(double lower, double upper, double error, int max) {\n",
        "        \n",
        "        double sign = 0.0; /* Test for the sign of the midpoint xr. */\n",
        "        double ea = MAX_INT; /* Calculated error value. */\n",
        "        double xrold = 0.0; /* Previous estimate. */\n",
        "        double xr = 0.0; /* Current x estimate for the root. */\n",
        "        double fr = 0.0; /* Current value of f. */\n",
        "        double fl = 0.0; /* Value of f at the lower end of the interval. */\n",
        "        int iteration = 0; /* For keeping track of the number of iterations. */\n",
        "        \n",
        "        fl = func(lower);\n",
        "        while ((ea > error && iteration < max)) {\n",
        "            \n",
        "            /* Start by memorising the old estimate in xrold and then calculate\n",
        "            the new estimate and store in fr */\n",
        "            xrold = xr;\n",
        "            xr = (lower + upper) / 2;\n",
        "            fr = func(xr);\n",
        "            iteration++;\n",
        "            /* Estimate the percentage error and store in ea. */\n",
        "            if (xr != 0) {\n",
        "                ea = Math.abs((xr - xrold)/xr) * 100;\n",
        "            }\n",
        "            \n",
        "            /* To know whether fr has the same sign as f(Lower) or f(Upper) is easy:\n",
        "            we know that f(Lower) is negative and we know that f(Upper) is positive.\n",
        "            Multiple fr by f(Lower) and if the result is positive then fr must be\n",
        "            negative. If the result is negative then fr must be positive. */\n",
        "            \n",
        "            sign = func(lower) * fr;\n",
        "            if (sign < 0)\n",
        "                upper = xr;\n",
        "            else if (sign > 0)\n",
        "                lower = xr;\n",
        "            else\n",
        "                ea = 0;\n",
        "            System.out.println(String.format(\"iteration %d = (%f, %f, %f, %f, %f)\\n\", iteration, lower, upper, xr, ea, sign));\n",
        "        }\n",
        "        return xr;\n",
        "    }\n",
        "    \n",
        "    static double func(double x) {\n",
        "        return x - 2;\n",
        "    }\n",
        "}"
      ],
      "id": "0a5c74e3",
      "execution_count": null,
      "outputs": []
    },
    {
      "cell_type": "code",
      "metadata": {
        "id": "ab6dd27a"
      },
      "source": [
        "import java.util.Arrays;\n",
        "import java.util.Collection;\n",
        "\n",
        "import org.junit.Test;\n",
        "import org.junit.runner.JUnitCore;\n",
        "import org.junit.runner.Result;\n",
        "import org.junit.runner.RunWith;\n",
        "import org.junit.runner.notification.Failure;\n",
        "import org.junit.runners.Parameterized;\n",
        "\n",
        "import junit.framework.TestCase;\n",
        "\n",
        "@RunWith(Parameterized.class)\n",
        "public class TestBisection extends TestCase {\n",
        "    \n",
        "    @Parameterized.Parameter(0)\n",
        "    public double lower;\n",
        "    @Parameterized.Parameter(1)\n",
        "    public double upper;\n",
        "    @Parameterized.Parameter(2)\n",
        "    public double error;\n",
        "    @Parameterized.Parameter(3)\n",
        "    public int max;\n",
        "    @Parameterized.Parameter(4)\n",
        "    public double results;\n",
        "\n",
        "    @Parameterized.Parameters(name = \"{index}: lower: {0} upper:{1} error:{2} iterations:{3} results:{5}\")\n",
        "    public static Collection<Object[]> data() {\n",
        "        Object[][] data = new Object[][]{\n",
        "            // Your Test cases start here\n",
        "            // Please follow the pattern: lower, upper, error, iterations, expected results\n",
        "            {-1.0, 7.0, 1, 10, 2.0},\n",
        "            {-1.0, 7.0, 1, 10, 2.0}\n",
        "            // Your Test cases end here\n",
        "            };\n",
        "        return Arrays.asList(data);\n",
        "    }\n",
        "\n",
        "    @Test\n",
        "    public void testBisection() {\n",
        "        assertEquals(results, Bisection.bisection(lower, upper, error, max));\n",
        "    }\n",
        "}"
      ],
      "id": "ab6dd27a",
      "execution_count": null,
      "outputs": []
    },
    {
      "cell_type": "code",
      "metadata": {
        "id": "68dc9440",
        "outputId": "ee7d6203-a0d7-49c9-81d2-c7a2ab7e5360"
      },
      "source": [
        "Result result = JUnitCore.runClasses(TestBisection.class);\n",
        "for (Failure failure : result.getFailures()) {\n",
        "     System.out.println(failure.toString());\n",
        "}\n",
        "System.out.println(String.format(\"Total run count: %s, Failed run count: %s\", result.getRunCount(), result.getFailureCount()));"
      ],
      "id": "68dc9440",
      "execution_count": null,
      "outputs": [
        {
          "name": "stdout",
          "output_type": "stream",
          "text": [
            "iteration 1 = (-1.000000, 3.000000, 3.000000, 100.000000, -3.000000)\n",
            "\n",
            "iteration 2 = (1.000000, 3.000000, 1.000000, 200.000000, 3.000000)\n",
            "\n",
            "iteration 3 = (1.000000, 3.000000, 2.000000, 0.000000, -0.000000)\n",
            "\n",
            "iteration 1 = (-1.000000, 3.000000, 3.000000, 100.000000, -3.000000)\n",
            "\n",
            "iteration 2 = (1.000000, 3.000000, 1.000000, 200.000000, 3.000000)\n",
            "\n",
            "iteration 3 = (1.000000, 3.000000, 2.000000, 0.000000, -0.000000)\n",
            "\n",
            "Total run count: 2, Failed run count: 0\n"
          ]
        }
      ]
    },
    {
      "cell_type": "markdown",
      "metadata": {
        "id": "59164571"
      },
      "source": [
        "## Your Tasks\n",
        "\n",
        "Repeat these tasks for both programs.\n",
        "\n",
        "### Task 1\n",
        "Standard analysis: Determine the input/output domains and the\n",
        "input/output conditions.\n",
        "\n",
        "### Task 2\n",
        "Using the specification and the input domain, write an automated test oracle to determine if an arbitrary test input is correct, incorrect or otherwise undecidable.\n",
        "\n",
        "### Task 3\n",
        "Determine an automated means for generating random test cases by selection points from the input set.\n"
      ],
      "id": "59164571"
    }
  ]
}