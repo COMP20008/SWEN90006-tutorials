{
  "nbformat": 4,
  "nbformat_minor": 5,
  "metadata": {
    "colab": {
      "name": "Tutorial_02_LWIG.ipynb",
      "provenance": [],
      "include_colab_link": true
    },
    "kernelspec": {
      "display_name": "Java",
      "language": "java",
      "name": "java"
    },
    "language_info": {
      "codemirror_mode": "java",
      "file_extension": ".jshell",
      "mimetype": "text/x-java-source",
      "name": "Java",
      "pygments_lexer": "java",
      "version": "10.0.2+13"
    }
  },
  "cells": [
    {
      "cell_type": "markdown",
      "metadata": {
        "id": "view-in-github",
        "colab_type": "text"
      },
      "source": [
        "<a href=\"https://colab.research.google.com/github/SWEN90006/tutorials/blob/main/SWEN90006_Tutorial_3.ipynb\" target=\"_parent\"><img src=\"https://colab.research.google.com/assets/colab-badge.svg\" alt=\"Open In Colab\"/></a>"
      ]
    },
    {
      "cell_type": "markdown",
      "metadata": {
        "id": "ecf80d1c"
      },
      "source": [
        "# SWEN90006 Tutorial 3"
      ],
      "id": "ecf80d1c"
    },
    {
      "cell_type": "markdown",
      "metadata": {
        "id": "8265c408"
      },
      "source": [
        "## Introduction\n",
        "The aim of this tutorial is for you to familiarise yourself with the\n",
        "various coverage criteria and analysis of the program for the various\n",
        "coverage criteria. When you get back to your revision you should try\n",
        "comparing the test cases that you derive for a program using different\n",
        "techniques.\n",
        "\n",
        "The different type of program that we encounter this week is a numerical\n",
        "program. One of the challenges of numerical programs is that we can\n",
        "never be certain that we will get an *exact* answer to our computation.\n",
        "Instead what we typically require is an answer to within some *error*\n",
        "value. (Recall from the lecture notes that an error is the difference between a computed value and the exact value). Numerical programs are tricky to debug, because they are\n",
        "often used to *find* the answer to some problem in the first place. For\n",
        "example, solving some integration or differentiation problems is too\n",
        "hard to do by hand and so we use a *numerical* method to approximate the\n",
        "answer."
      ],
      "id": "8265c408"
    },
    {
      "cell_type": "markdown",
      "metadata": {
        "id": "a0fd58b6"
      },
      "source": [
        "## Working With the Program\n",
        "The program implements the standard bisection method for root finding.\n",
        "The root-finding problem is expressed as follows:\n",
        "\n",
        "> We are given a function $f(x)$ taking a real number and returning a\n",
        "> real number; that is a function $f: \\mathbb{R} \\rightarrow \\mathbb{R}$. The function is negative at some point $x_0$ and\n",
        "> positive at some point $x_1$. Find the value $x$ for which $f(x) = 0$\n",
        "> on an interval $[Lower,Upper]$. The point $x$ is a root of $f$ on the\n",
        "> interval $[Lower,Upper]$.\n",
        "\n",
        "As an example, consider the natural logarithm function, $ln$. The graph\n",
        "in Figure 1 shows the values of $ln(x)$ for various values\n",
        "of $x$. We can see that the value of $ln(x)$ is equal to 0 when $x=1$.\n",
        "The bisection algorithm finds this value of $x$.\n",
        "\n",
        "\n",
        "![Root finding problems](data:image/png;base64,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)\n",
        "\n",
        "<center>Figure 1: Root finding problems.</center>\n",
        "\n",
        "The idea behind the algorithm for finding roots is to look at the\n",
        "interval $[Lower,Upper]$ and bisect it (hence the name of the algorithm)\n",
        "and find the midpoint of the interval $x_r$. If we know that\n",
        "$f(\\mathit{Lower})$ is negative, and $f(\\mathit{Upper})$ is positive\n",
        "then there must be root in the interval, provided that the function is\n",
        "continuous. If the value of $f$ at $x_r$ is positive then the root must\n",
        "be in the interval $[Lower,x_r]$. If the value of $f$ at $x_r$ is\n",
        "negative then the root must be in the interval $[x_r,Upper]$. The\n",
        "algorithm should converge to the root because the length of the interval\n",
        "is getting smaller every time (in fact the length of the interval is\n",
        "halved every time). Does this sound familiar?"
      ],
      "id": "a0fd58b6"
    },
    {
      "cell_type": "markdown",
      "metadata": {
        "id": "92b1db19"
      },
      "source": [
        "## Your Tasks\n",
        "\n",
        "1. What is the input domain for the `Bisection` program below?\n",
        "\n",
        "\n",
        "2. Draw the control-flow graph for the `Bisection` function. You may break the function up into basic blocks to simplify your CFG.\n",
        "\n",
        "    **Recall** that a *basic block* is a continuous sequence of statements where control flows from one statement to the next, a single point of entry, a single point of exit and no branches or loops.\n",
        "\n",
        "\n",
        "3. Suppose that we concentrated on the (nice and linear) function $f(x) = x - 2$. Derive a set of test cases that achieve:\n",
        "    - Statement coverage; and\n",
        "    - Condition coverage.\n",
        "    \n",
        "    Note that you will have to determine what it means for the `Bisection` function to return the *correct* or *expected* output first.\n",
        "\n",
        "4. **Extended task**: After the tutorial, try implementing the tests in the JUnit driver below."
      ],
      "id": "92b1db19"
    },
    {
      "cell_type": "markdown",
      "metadata": {
        "id": "804378d0"
      },
      "source": [
        "## The Program\n",
        "\n",
        "\n",
        "### Prepare the Java Kernel\n",
        "Since Java is not natively supported by Colab, we need to run the following code to enable Java kernel on Colab.\n",
        "\n",
        "1. Run the cell bellow (click it and press Shift+Enter),\n",
        "2. Refresh the Notebook (F5)\n",
        "3. Change the kernel to Java (Runtime -> Change Runtime Type -> Java)"
      ],
      "id": "804378d0"
    },
    {
      "cell_type": "code",
      "metadata": {
        "id": "d5161ba0"
      },
      "source": [
        "!wget https://github.com/SpencerPark/IJava/releases/download/v1.3.0/ijava-1.3.0.zip\n",
        "!unzip ijava-1.3.0.zip\n",
        "!python install.py --sys-prefix"
      ],
      "id": "d5161ba0",
      "execution_count": null,
      "outputs": []
    },
    {
      "cell_type": "code",
      "metadata": {
        "id": "bc13d44e"
      },
      "source": [
        "%%loadFromPOM\n",
        "\n",
        "<dependency>\n",
        "  <groupId>junit</groupId>\n",
        "  <artifactId>junit</artifactId>\n",
        "  <version>4.13.2</version>\n",
        "</dependency>"
      ],
      "id": "bc13d44e",
      "execution_count": null,
      "outputs": []
    },
    {
      "cell_type": "markdown",
      "metadata": {
        "id": "26a8ba1c"
      },
      "source": [
        "The following is a basic Java implementation of `Bisection`."
      ],
      "id": "26a8ba1c"
    },
    {
      "cell_type": "code",
      "metadata": {
        "id": "625430b8"
      },
      "source": [
        "public class Bisection{\n",
        "\n",
        "    static final int MAX_INT = 65535;\n",
        "    \n",
        "    static double bisection(double lower, double upper, double error, int max) {\n",
        "        \n",
        "        double sign = 0.0; /* Test for the sign of the midpoint xr. */\n",
        "        double ea = MAX_INT; /* Calculated error value. */\n",
        "        double xrold = 0.0; /* Previous estimate. */\n",
        "        double xr = 0.0; /* Current x estimate for the root. */\n",
        "        double fr = 0.0; /* Current value of f. */\n",
        "        double fl = 0.0; /* Value of f at the lower end of the interval. */\n",
        "        int iteration = 0; /* For keeping track of the number of iterations. */\n",
        "        \n",
        "        fl = func(lower);\n",
        "        while ((ea > error && iteration < max)) {\n",
        "            \n",
        "            /* Start by memorising the old estimate in xrold and then calculate\n",
        "            the new estimate and store in fr */\n",
        "            xrold = xr;\n",
        "            xr = (lower + upper) / 2;\n",
        "            fr = func(xr);\n",
        "            iteration++;\n",
        "            /* Estimate the percentage error and store in ea. */\n",
        "            if (xr != 0) {\n",
        "                ea = Math.abs((xr - xrold)/xr) * 100;\n",
        "            }\n",
        "            \n",
        "            /* To know whether fr has the same sign as f(Lower) or f(Upper) is easy:\n",
        "            we know that f(Lower) is negative and we know that f(Upper) is positive.\n",
        "            Multiple fr by f(Lower) and if the result is positive then fr must be\n",
        "            negative. If the result is negative then fr must be positive. */\n",
        "            \n",
        "            sign = func(lower) * fr;\n",
        "            if (sign < 0)\n",
        "                upper = xr;\n",
        "            else if (sign > 0)\n",
        "                lower = xr;\n",
        "            else\n",
        "                ea = 0;\n",
        "            System.out.println(String.format(\"iteration %d = (%f, %f, %f, %f, %f)\\n\", iteration, lower, upper, xr, ea, sign));\n",
        "        }\n",
        "        return xr;\n",
        "    }\n",
        "    \n",
        "    static double func(double x) {\n",
        "        return x - 2;\n",
        "    }\n",
        "}"
      ],
      "id": "625430b8",
      "execution_count": null,
      "outputs": []
    },
    {
      "cell_type": "markdown",
      "metadata": {
        "id": "7f61a27e"
      },
      "source": [
        "## JUnit test script\n",
        "\n",
        "The following code block is a JUnit test script. JUnit is a unit-testing framework for Java that allows you to easily create tests that can be run automatically. \n",
        "\n",
        "In the code block below, put your test cases where is says \"Your test cases start here\". Add test cases by adding new elements to the data array. These will then be executed automatically by JUnit."
      ],
      "id": "7f61a27e"
    },
    {
      "cell_type": "code",
      "metadata": {
        "id": "7ed1cef5"
      },
      "source": [
        "import java.util.Arrays;\n",
        "import java.util.Collection;\n",
        "\n",
        "import org.junit.Test;\n",
        "import org.junit.runner.JUnitCore;\n",
        "import org.junit.runner.Result;\n",
        "import org.junit.runner.RunWith;\n",
        "import org.junit.runner.notification.Failure;\n",
        "import org.junit.runners.Parameterized;\n",
        "\n",
        "import junit.framework.TestCase;\n",
        "\n",
        "@RunWith(Parameterized.class)\n",
        "public class TestBisection extends TestCase {\n",
        "    \n",
        "    @Parameterized.Parameter(0)\n",
        "    public double lower;\n",
        "    @Parameterized.Parameter(1)\n",
        "    public double upper;\n",
        "    @Parameterized.Parameter(2)\n",
        "    public double error;\n",
        "    @Parameterized.Parameter(3)\n",
        "    public int max;\n",
        "    @Parameterized.Parameter(4)\n",
        "    public double results;\n",
        "\n",
        "    @Parameterized.Parameters(name = \"{index}: lower: {0} upper:{1} error:{2} iterations:{3} results:{5}\")\n",
        "    public static Collection<Object[]> data() {\n",
        "        Object[][] data = new Object[][]{\n",
        "            // Your Test cases start here\n",
        "            // Please follow the pattern: lower, upper, error, iterations, expected results\n",
        "            {-1.0, 7.0, 1, 10, 2.0},\n",
        "            {-1.0, 7.0, 1, 10, 2.0}\n",
        "            // Your Test cases end here\n",
        "            };\n",
        "        return Arrays.asList(data);\n",
        "    }\n",
        "\n",
        "    @Test\n",
        "    public void testBisection() {\n",
        "        assertEquals(results, Bisection.bisection(lower, upper, error, max));\n",
        "    }\n",
        "}"
      ],
      "id": "7ed1cef5",
      "execution_count": null,
      "outputs": []
    },
    {
      "cell_type": "code",
      "metadata": {
        "id": "eb0485b6",
        "scrolled": false,
        "outputId": "ce74d455-7585-4ee9-eadd-ab4e213f9304"
      },
      "source": [
        "Result result = JUnitCore.runClasses(TestBisection.class);\n",
        "for (Failure failure : result.getFailures()) {\n",
        "     System.out.println(failure.toString());\n",
        "}\n",
        "System.out.println(String.format(\"Total run count: %s, Failed run count: %s\", result.getRunCount(), result.getFailureCount()));"
      ],
      "id": "eb0485b6",
      "execution_count": null,
      "outputs": [
        {
          "output_type": "stream",
          "text": [
            "iteration 1 = (-1.000000, 3.000000, 3.000000, 100.000000, -3.000000)\n",
            "\n",
            "iteration 2 = (1.000000, 3.000000, 1.000000, 200.000000, 3.000000)\n",
            "\n",
            "iteration 3 = (1.000000, 3.000000, 2.000000, 0.000000, -0.000000)\n",
            "\n",
            "iteration 1 = (-1.000000, 3.000000, 3.000000, 100.000000, -3.000000)\n",
            "\n",
            "iteration 2 = (1.000000, 3.000000, 1.000000, 200.000000, 3.000000)\n",
            "\n",
            "iteration 3 = (1.000000, 3.000000, 2.000000, 0.000000, -0.000000)\n",
            "\n",
            "Total run count: 2, Failed run count: 0\n"
          ],
          "name": "stdout"
        }
      ]
    }
  ]
}