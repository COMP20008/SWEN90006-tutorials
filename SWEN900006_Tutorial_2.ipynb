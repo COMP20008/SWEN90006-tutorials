{
  "nbformat": 4,
  "nbformat_minor": 5,
  "metadata": {
    "kernelspec": {
      "display_name": "Java",
      "language": "java",
      "name": "java"
    },
    "language_info": {
      "codemirror_mode": "java",
      "file_extension": ".jshell",
      "mimetype": "text/x-java-source",
      "name": "Java",
      "pygments_lexer": "java",
      "version": "11.0.11+9-Ubuntu-0ubuntu2.18.04"
    },
    "colab": {
      "name": "Tutorial_02_LWIG.ipynb",
      "provenance": [],
      "include_colab_link": true
    }
  },
  "cells": [
    {
      "cell_type": "markdown",
      "metadata": {
        "id": "view-in-github",
        "colab_type": "text"
      },
      "source": [
        "<a href=\"https://colab.research.google.com/github/SWEN90006/tutorials/blob/main/SWEN900006_Tutorial_2.ipynb\" target=\"_parent\"><img src=\"https://colab.research.google.com/assets/colab-badge.svg\" alt=\"Open In Colab\"/></a>"
      ]
    },
    {
      "cell_type": "markdown",
      "metadata": {
        "id": "f5185ac9"
      },
      "source": [
        "# SWEN90006 Tutorial 2"
      ],
      "id": "f5185ac9"
    },
    {
      "cell_type": "markdown",
      "metadata": {
        "id": "c2e1bd92"
      },
      "source": [
        "## Introduction\n",
        "The aim of this tutorial is twofold. First, it aims to give you some practise at deriving test cases from specifications. Second, it aims for you to start exploring the limits of your test cases, and of the specifications."
      ],
      "id": "c2e1bd92"
    },
    {
      "cell_type": "markdown",
      "metadata": {
        "id": "41331ddb"
      },
      "source": [
        "## The Program\n",
        "**Input File:** The input file format is as follows. Each line will\n",
        "contain the data for a single student, and will contain several fields.\n",
        "Each field is separated by a colon.\n",
        "\n",
        "Each line consists of the following fields, in order:\n",
        "\n",
        "-   A student number, which must be a 5 digit, 6 digit or 9 digit\n",
        "    number.\n",
        "\n",
        "-   The student's month of birth, which must be a string of 3 alphabetic\n",
        "    characters with the first character capitalised and the remaining as\n",
        "    lower case. That is, it must be from the set:\n",
        "    \n",
        "    $$\\{Jan, Feb, Mar, Apr, May, Jun, Jul, Aug, Sep, Oct, Nov, Dec\\}$$\n",
        "\n",
        "-   The date of birth, which must be a number from 1--31 and must be the\n",
        "    correct number of days for the month; that is, it cannot be 30\n",
        "    February, because February never has 30 days.\n",
        "\n",
        "-   The student's surname, which must be a string of alphabetic\n",
        "    characters all in capitals.\n",
        "\n",
        "-   The first letter of the student's first name, which must be a single\n",
        "    capitalised alphabetic character.\n",
        "\n",
        "-   The number of lectures that they slept through, which must be an\n",
        "    integer between 0 and 24.\n",
        "\n",
        "If any input row is invalid, the program should print a warning message\n",
        "and continue with the next record. If the program encounters a more\n",
        "serious problem (e.g. unable to open input file), it will print an error\n",
        "message and exit gracefully."
      ],
      "id": "41331ddb"
    },
    {
      "cell_type": "markdown",
      "metadata": {
        "id": "84bf0d7f"
      },
      "source": [
        "\n",
        "**Example 1**. *As an example suppose we had the following data.*\n",
        "\n",
        "-   *Student number: 12345*\n",
        "\n",
        "-   *Month of Birth: May*\n",
        "\n",
        "-   *Date of Birth: 26*\n",
        "\n",
        "-   *Surname: CHAN*\n",
        "\n",
        "-   *First letter of first name: K*\n",
        "\n",
        "-   *Slept during one or more lectures: 0*\n",
        "\n",
        "*The input line for this data would be `12345:May:26:CHAN:K:0`*"
      ],
      "id": "84bf0d7f"
    },
    {
      "cell_type": "markdown",
      "metadata": {
        "id": "7965d691"
      },
      "source": [
        "**Output File**: The output file format is as follows. Each line will\n",
        "contain the data for a single student, and each line will contain\n",
        "several fields. Each field is separated by a colon.\n",
        "\n",
        "Each line consists of the following fields, in order:\n",
        "\n",
        "-   Student number which must be a 5 digit, 6 digit, or 9 digit number.\n",
        "\n",
        "-   Assignment 1 mark: (0--10)\n",
        "\n",
        "-   Assignment 2 mark: (0--10)\n",
        "\n",
        "-   Project mark: (0--30)\n",
        "\n",
        "-   Exam mark: (0-50)\n",
        "\n",
        "-   Final grade: \\[H1, H2A, H2B, H3, P, HCP, N, N+ \\]\n",
        "\n",
        "-   Comment: String of arbitrary length"
      ],
      "id": "7965d691"
    },
    {
      "cell_type": "markdown",
      "metadata": {
        "id": "bed849a9"
      },
      "source": [
        "**Example 2**. *As an example, consider the following output:*\n",
        "\n",
        "-   *Student number: 12345*\n",
        "\n",
        "-   *Assignment 1 mark: 10*\n",
        "\n",
        "-   *Assignment 2 mark: 10*\n",
        "\n",
        "-   *Project mark: 25*\n",
        "\n",
        "-   *Exam mark: 38*\n",
        "\n",
        "-   *Final grade: H1*\n",
        "\n",
        "-   *Comment: \"Excellent.\"*\n",
        "\n",
        "*The output for this record would be\n",
        "` 12345:10:10:25:38:H1:“Excellent”`*"
      ],
      "id": "bed849a9"
    },
    {
      "cell_type": "markdown",
      "metadata": {
        "id": "dfce6906"
      },
      "source": [
        "## Tasks\n",
        "\n",
        "1. What is the input domain for the LWIG program? What are the input conditions for the LWIG program?\n",
        "\n",
        "2. Derive input test-cases for the program using equivalence partitioning and boundary-value analysis.\n",
        "\n",
        "3. Implement your tests in the JUnit driver below. Do you tests find any faults?\n",
        "\n",
        "4. Of course, the client has not completely specified the program (but, that is to be expected). There is an additional requirement that the records can be sorted by different output fields.\n",
        "    What are the implications of sorting on the various fields and what test cases would you choose to ensure that sorting has been correctly implemented?"
      ],
      "id": "dfce6906"
    },
    {
      "cell_type": "markdown",
      "metadata": {
        "id": "863d3328"
      },
      "source": [
        "## Java Implementation\n",
        "\n",
        "The following code is a minimal implementation of the LWIG program. \n",
        "\n",
        "For the purpose of this tutorial, we assume that the input has already been parsed into an array containing the important elements.\n",
        "\n",
        "### Prepare the Java Kernel\n",
        "Since Java is not natively supported by Colab, we need to run the following code to enable Java kernel on Colab.\n",
        "\n",
        "1. Run the cell bellow (click it and press Shift+Enter),\n",
        "2. Refresh the Notebook (F5)\n",
        "3. Change the kernel to Java (Runtime -> Change Runtime Type -> Java)"
      ],
      "id": "863d3328"
    },
    {
      "cell_type": "code",
      "metadata": {
        "id": "lHpILvGVHBMq"
      },
      "source": [
        "!wget https://github.com/SpencerPark/IJava/releases/download/v1.3.0/ijava-1.3.0.zip\n",
        "!unzip ijava-1.3.0.zip\n",
        "!python install.py --sys-prefix"
      ],
      "id": "lHpILvGVHBMq",
      "execution_count": null,
      "outputs": []
    },
    {
      "cell_type": "code",
      "metadata": {
        "id": "48be5302"
      },
      "source": [
        "%%loadFromPOM\n",
        "\n",
        "<dependency>\n",
        "  <groupId>junit</groupId>\n",
        "  <artifactId>junit</artifactId>\n",
        "  <version>4.13.2</version>\n",
        "</dependency>"
      ],
      "id": "48be5302",
      "execution_count": null,
      "outputs": []
    },
    {
      "cell_type": "markdown",
      "metadata": {
        "id": "ceCuEzQItVqj"
      },
      "source": [
        "## LWIG Implementation\n",
        "\n",
        "The following is a basic Java implementation of LWIG."
      ],
      "id": "ceCuEzQItVqj"
    },
    {
      "cell_type": "code",
      "metadata": {
        "id": "x_cr17kAD5Id"
      },
      "source": [
        "import java.time.*;\n",
        "import java.time.format.*;\n",
        "import java.util.Arrays;\n",
        "import java.util.Collection;\n",
        "import java.util.Locale;\n",
        "\n",
        "public class LWIG {\n",
        "\n",
        "    public static boolean isValidDate(String month, String date) {\n",
        "        boolean isValid = false;\n",
        "        try {\n",
        "            DateTimeFormatter dtf = new DateTimeFormatterBuilder()\n",
        "                .parseCaseSensitive()         // Change to \".parseCaseInsensitive()\" makes case Insensitive\n",
        "                .appendPattern(\"d-MMM-uuuu\")  // Pattern conforming to the date-time string\n",
        "                .toFormatter(Locale.ENGLISH)  // Locale\n",
        "                .withResolverStyle(ResolverStyle.STRICT); // Removing this line makes 30-Feb valid\n",
        "            LocalDate.parse(String.format(\"%s-%s-2012\", date, month), dtf); // Hard coded a leap year or common year\n",
        "            isValid = true;\n",
        "        } catch (Exception e) {\n",
        "            //e.printStackTrace();\n",
        "            isValid = false;\n",
        "        }\n",
        "        return isValid;\n",
        "    }\n",
        "    \n",
        "    public static boolean isValidID(String id) {\n",
        "        String regEx = \"^(\\\\d{5}|\\\\d{6}|\\\\d{9})$\"; // \n",
        "        return id.matches(regEx);\n",
        "    }\n",
        "    \n",
        "    public static boolean isValidSurname(String name)\n",
        "    {\n",
        "        String regEx = \"^[A-Z]+$\";\n",
        "        return name.matches(regEx);\n",
        "    }\n",
        "    \n",
        "    public static boolean isValidFirstLetter(String name)\n",
        "    {\n",
        "        String regEx = \"^[A-Z]$\";\n",
        "        return name.matches(regEx);\n",
        "    }\n",
        "    \n",
        "    public static boolean isValidSleptCount(String number)\n",
        "    {\n",
        "        boolean isValid = false;\n",
        "        try {\n",
        "            int count = Integer.parseInt(number);\n",
        "            if (count >= 0 && count <= 24) {\n",
        "                isValid = true;\n",
        "            }\n",
        "        } catch (Exception e) {\n",
        "            isValid = false;\n",
        "        }\n",
        "        return isValid;\n",
        "    }\n",
        "}"
      ],
      "id": "x_cr17kAD5Id",
      "execution_count": null,
      "outputs": []
    },
    {
      "cell_type": "markdown",
      "metadata": {
        "id": "609de918"
      },
      "source": [
        "##JUnit test script\n",
        "\n",
        "The following code block is a JUnit test script. JUnit is a unit-testing framework for Java that allows you to easily create tests that can be run automatically. \n",
        "\n",
        "In the code block below, put your test cases where is says \"Your test cases start here\". Add test cases by adding new elements to the data array. These will then be executed automatically by JUnit."
      ],
      "id": "609de918"
    },
    {
      "cell_type": "code",
      "metadata": {
        "id": "8f47ce10"
      },
      "source": [
        "import junit.framework.TestCase;\n",
        "\n",
        "import org.junit.Test;\n",
        "import org.junit.runner.*;\n",
        "import org.junit.runner.RunWith;\n",
        "import org.junit.runner.notification.Failure;\n",
        "import org.junit.runners.Parameterized;\n",
        "\n",
        "@RunWith(Parameterized.class)\n",
        "public class LWIGTestCase extends TestCase {\n",
        "    \n",
        "    @Parameterized.Parameter(0)\n",
        "    public String id;\n",
        "    @Parameterized.Parameter(1)\n",
        "    public String month;\n",
        "    @Parameterized.Parameter(2)\n",
        "    public String date;\n",
        "    @Parameterized.Parameter(3)\n",
        "    public String surname;\n",
        "    @Parameterized.Parameter(4)\n",
        "    public String firstLetter;\n",
        "    @Parameterized.Parameter(5)\n",
        "    public String sleptCount;\n",
        "    @Parameterized.Parameter(6)\n",
        "    public boolean result;\n",
        "    \n",
        "    @Test\n",
        "    public void testLWIG() {\n",
        "        boolean expectedResult = LWIG.isValidID(id) &&\n",
        "            LWIG.isValidDate(month, date) &&\n",
        "            LWIG.isValidSurname(surname) &&\n",
        "            LWIG.isValidFirstLetter(firstLetter) &&\n",
        "            LWIG.isValidSleptCount(sleptCount);\n",
        "        assertEquals(result, expectedResult);\n",
        "    }\n",
        "\n",
        "    @Parameterized.Parameters(name = \"Test case {index} failed: LWIG with id = {0}, Mon = {1}, date = {2}, surname = {3}, first letter = {4}, slept count = {5}, expected result = {6}\")\n",
        "    public static Collection<Object[]> data() {\n",
        "        Object[][] data = new Object[][]{\n",
        "            // Your Test cases start here\n",
        "            {\"13456\", \"Jan\", \"30\", \"CHAN\", \"K\", \"0\", true}, \n",
        "            {\"12345678\", \"Feb\", \"26\", \"TOM\", \"3\", \"0\", true}\n",
        "            // Your Test cases end here\n",
        "            };\n",
        "        return Arrays.asList(data);\n",
        "    }\n",
        "}"
      ],
      "id": "8f47ce10",
      "execution_count": null,
      "outputs": []
    },
    {
      "cell_type": "code",
      "metadata": {
        "id": "eirtRU97oeUx"
      },
      "source": [
        "Result result = JUnitCore.runClasses(LWIGTestCase.class);\n",
        "for (Failure failure : result.getFailures()) {\n",
        "     System.out.println(failure.toString());\n",
        "}\n",
        "System.out.println(String.format(\"Total run count: %s, Failed run count: %s\", result.getRunCount(), result.getFailureCount()));"
      ],
      "id": "eirtRU97oeUx",
      "execution_count": null,
      "outputs": []
    }
  ]
}